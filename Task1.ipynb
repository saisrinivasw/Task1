{
 "cells": [
  {
   "cell_type": "markdown",
   "id": "bb4ba571",
   "metadata": {},
   "source": [
    "# Student Performance Data Analysis Task\n",
    "This Task analyzes a dataset of student exam scores using Python."
   ]
  },
  {
   "cell_type": "markdown",
   "id": "a47a1030-68c2-44ff-880c-57948710c2a7",
   "metadata": {},
   "source": [
    "###  Step 1: Data Loading\n",
    "**Purpose**:  \n",
    "To load the student performance dataset (`student-mat.csv`) into a pandas DataFrame for further analysis.\n",
    "\n",
    "**Method**:  \n",
    "We used `pandas.read_csv()` with the `delimiter=';'` since the dataset uses semicolons instead of commas."
   ]
  },
  {
   "cell_type": "code",
   "execution_count": 1,
   "id": "ba3b4d79",
   "metadata": {},
   "outputs": [
    {
     "data": {
      "text/html": [
       "<div>\n",
       "<style scoped>\n",
       "    .dataframe tbody tr th:only-of-type {\n",
       "        vertical-align: middle;\n",
       "    }\n",
       "\n",
       "    .dataframe tbody tr th {\n",
       "        vertical-align: top;\n",
       "    }\n",
       "\n",
       "    .dataframe thead th {\n",
       "        text-align: right;\n",
       "    }\n",
       "</style>\n",
       "<table border=\"1\" class=\"dataframe\">\n",
       "  <thead>\n",
       "    <tr style=\"text-align: right;\">\n",
       "      <th></th>\n",
       "      <th>school</th>\n",
       "      <th>sex</th>\n",
       "      <th>age</th>\n",
       "      <th>address</th>\n",
       "      <th>famsize</th>\n",
       "      <th>Pstatus</th>\n",
       "      <th>Medu</th>\n",
       "      <th>Fedu</th>\n",
       "      <th>Mjob</th>\n",
       "      <th>Fjob</th>\n",
       "      <th>...</th>\n",
       "      <th>famrel</th>\n",
       "      <th>freetime</th>\n",
       "      <th>goout</th>\n",
       "      <th>Dalc</th>\n",
       "      <th>Walc</th>\n",
       "      <th>health</th>\n",
       "      <th>absences</th>\n",
       "      <th>G1</th>\n",
       "      <th>G2</th>\n",
       "      <th>G3</th>\n",
       "    </tr>\n",
       "  </thead>\n",
       "  <tbody>\n",
       "    <tr>\n",
       "      <th>0</th>\n",
       "      <td>GP</td>\n",
       "      <td>F</td>\n",
       "      <td>18</td>\n",
       "      <td>U</td>\n",
       "      <td>GT3</td>\n",
       "      <td>A</td>\n",
       "      <td>4</td>\n",
       "      <td>4</td>\n",
       "      <td>at_home</td>\n",
       "      <td>teacher</td>\n",
       "      <td>...</td>\n",
       "      <td>4</td>\n",
       "      <td>3</td>\n",
       "      <td>4</td>\n",
       "      <td>1</td>\n",
       "      <td>1</td>\n",
       "      <td>3</td>\n",
       "      <td>6</td>\n",
       "      <td>5</td>\n",
       "      <td>6</td>\n",
       "      <td>6</td>\n",
       "    </tr>\n",
       "    <tr>\n",
       "      <th>1</th>\n",
       "      <td>GP</td>\n",
       "      <td>F</td>\n",
       "      <td>17</td>\n",
       "      <td>U</td>\n",
       "      <td>GT3</td>\n",
       "      <td>T</td>\n",
       "      <td>1</td>\n",
       "      <td>1</td>\n",
       "      <td>at_home</td>\n",
       "      <td>other</td>\n",
       "      <td>...</td>\n",
       "      <td>5</td>\n",
       "      <td>3</td>\n",
       "      <td>3</td>\n",
       "      <td>1</td>\n",
       "      <td>1</td>\n",
       "      <td>3</td>\n",
       "      <td>4</td>\n",
       "      <td>5</td>\n",
       "      <td>5</td>\n",
       "      <td>6</td>\n",
       "    </tr>\n",
       "    <tr>\n",
       "      <th>2</th>\n",
       "      <td>GP</td>\n",
       "      <td>F</td>\n",
       "      <td>15</td>\n",
       "      <td>U</td>\n",
       "      <td>LE3</td>\n",
       "      <td>T</td>\n",
       "      <td>1</td>\n",
       "      <td>1</td>\n",
       "      <td>at_home</td>\n",
       "      <td>other</td>\n",
       "      <td>...</td>\n",
       "      <td>4</td>\n",
       "      <td>3</td>\n",
       "      <td>2</td>\n",
       "      <td>2</td>\n",
       "      <td>3</td>\n",
       "      <td>3</td>\n",
       "      <td>10</td>\n",
       "      <td>7</td>\n",
       "      <td>8</td>\n",
       "      <td>10</td>\n",
       "    </tr>\n",
       "    <tr>\n",
       "      <th>3</th>\n",
       "      <td>GP</td>\n",
       "      <td>F</td>\n",
       "      <td>15</td>\n",
       "      <td>U</td>\n",
       "      <td>GT3</td>\n",
       "      <td>T</td>\n",
       "      <td>4</td>\n",
       "      <td>2</td>\n",
       "      <td>health</td>\n",
       "      <td>services</td>\n",
       "      <td>...</td>\n",
       "      <td>3</td>\n",
       "      <td>2</td>\n",
       "      <td>2</td>\n",
       "      <td>1</td>\n",
       "      <td>1</td>\n",
       "      <td>5</td>\n",
       "      <td>2</td>\n",
       "      <td>15</td>\n",
       "      <td>14</td>\n",
       "      <td>15</td>\n",
       "    </tr>\n",
       "    <tr>\n",
       "      <th>4</th>\n",
       "      <td>GP</td>\n",
       "      <td>F</td>\n",
       "      <td>16</td>\n",
       "      <td>U</td>\n",
       "      <td>GT3</td>\n",
       "      <td>T</td>\n",
       "      <td>3</td>\n",
       "      <td>3</td>\n",
       "      <td>other</td>\n",
       "      <td>other</td>\n",
       "      <td>...</td>\n",
       "      <td>4</td>\n",
       "      <td>3</td>\n",
       "      <td>2</td>\n",
       "      <td>1</td>\n",
       "      <td>2</td>\n",
       "      <td>5</td>\n",
       "      <td>4</td>\n",
       "      <td>6</td>\n",
       "      <td>10</td>\n",
       "      <td>10</td>\n",
       "    </tr>\n",
       "  </tbody>\n",
       "</table>\n",
       "<p>5 rows × 33 columns</p>\n",
       "</div>"
      ],
      "text/plain": [
       "  school sex  age address famsize Pstatus  Medu  Fedu     Mjob      Fjob  ...  \\\n",
       "0     GP   F   18       U     GT3       A     4     4  at_home   teacher  ...   \n",
       "1     GP   F   17       U     GT3       T     1     1  at_home     other  ...   \n",
       "2     GP   F   15       U     LE3       T     1     1  at_home     other  ...   \n",
       "3     GP   F   15       U     GT3       T     4     2   health  services  ...   \n",
       "4     GP   F   16       U     GT3       T     3     3    other     other  ...   \n",
       "\n",
       "  famrel freetime  goout  Dalc  Walc health absences  G1  G2  G3  \n",
       "0      4        3      4     1     1      3        6   5   6   6  \n",
       "1      5        3      3     1     1      3        4   5   5   6  \n",
       "2      4        3      2     2     3      3       10   7   8  10  \n",
       "3      3        2      2     1     1      5        2  15  14  15  \n",
       "4      4        3      2     1     2      5        4   6  10  10  \n",
       "\n",
       "[5 rows x 33 columns]"
      ]
     },
     "execution_count": 1,
     "metadata": {},
     "output_type": "execute_result"
    }
   ],
   "source": [
    "import pandas as pd\n",
    "\n",
    "# Load dataset\n",
    "df = pd.read_csv(\"student-mat.csv\", delimiter=';')\n",
    "\n",
    "\n",
    "# Display the first 5 rows\n",
    "df.head()"
   ]
  },
  {
   "cell_type": "markdown",
   "id": "46ec4ca1",
   "metadata": {},
   "source": [
    "## Step 2: Data Exploration\n",
    "\n",
    "**Purpose**:  \n",
    "To understand the structure and composition of the dataset before any processing.\n",
    "\n",
    "**Key Steps**:\n",
    "- Checked the first few rows using `.head()`\n",
    "- Inspected data types using `.dtypes`\n",
    "- Checked dataset dimensions using `.shape`\n",
    "- Looked for missing values with `.isnull().sum()`\n",
    "\n",
    "**Findings**:\n",
    "- No missing values found.\n",
    "- Dataset has 395 rows and 33 columns.\n",
    "- All columns are properly typed for analysis.\n",
    "\n"
   ]
  },
  {
   "cell_type": "code",
   "execution_count": 2,
   "id": "da24f9af",
   "metadata": {},
   "outputs": [
    {
     "data": {
      "text/plain": [
       "school        0\n",
       "sex           0\n",
       "age           0\n",
       "address       0\n",
       "famsize       0\n",
       "Pstatus       0\n",
       "Medu          0\n",
       "Fedu          0\n",
       "Mjob          0\n",
       "Fjob          0\n",
       "reason        0\n",
       "guardian      0\n",
       "traveltime    0\n",
       "studytime     0\n",
       "failures      0\n",
       "schoolsup     0\n",
       "famsup        0\n",
       "paid          0\n",
       "activities    0\n",
       "nursery       0\n",
       "higher        0\n",
       "internet      0\n",
       "romantic      0\n",
       "famrel        0\n",
       "freetime      0\n",
       "goout         0\n",
       "Dalc          0\n",
       "Walc          0\n",
       "health        0\n",
       "absences      0\n",
       "G1            0\n",
       "G2            0\n",
       "G3            0\n",
       "dtype: int64"
      ]
     },
     "execution_count": 2,
     "metadata": {},
     "output_type": "execute_result"
    }
   ],
   "source": [
    "# Check for missing values\n",
    "df.isnull().sum()"
   ]
  },
  {
   "cell_type": "code",
   "execution_count": 4,
   "id": "5b856cff",
   "metadata": {},
   "outputs": [
    {
     "data": {
      "text/plain": [
       "school        object\n",
       "sex           object\n",
       "age            int64\n",
       "address       object\n",
       "famsize       object\n",
       "Pstatus       object\n",
       "Medu           int64\n",
       "Fedu           int64\n",
       "Mjob          object\n",
       "Fjob          object\n",
       "reason        object\n",
       "guardian      object\n",
       "traveltime     int64\n",
       "studytime      int64\n",
       "failures       int64\n",
       "schoolsup     object\n",
       "famsup        object\n",
       "paid          object\n",
       "activities    object\n",
       "nursery       object\n",
       "higher        object\n",
       "internet      object\n",
       "romantic      object\n",
       "famrel         int64\n",
       "freetime       int64\n",
       "goout          int64\n",
       "Dalc           int64\n",
       "Walc           int64\n",
       "health         int64\n",
       "absences       int64\n",
       "G1             int64\n",
       "G2             int64\n",
       "G3             int64\n",
       "dtype: object"
      ]
     },
     "execution_count": 4,
     "metadata": {},
     "output_type": "execute_result"
    }
   ],
   "source": [
    "# Check column data types\n",
    "df.dtypes"
   ]
  },
  {
   "cell_type": "code",
   "execution_count": 3,
   "id": "dd4da4c7",
   "metadata": {},
   "outputs": [
    {
     "data": {
      "text/plain": [
       "(395, 33)"
      ]
     },
     "execution_count": 3,
     "metadata": {},
     "output_type": "execute_result"
    }
   ],
   "source": [
    "# Check dataset shape (rows, columns)\n",
    "df.shape"
   ]
  },
  {
   "cell_type": "markdown",
   "id": "489a6eee",
   "metadata": {},
   "source": [
    "###  Step 3: Data Cleaning\n",
    "**Purpose**:  \n",
    "To remove duplicates and ensure the data is clean and consistent before performing analysis.\n",
    "\n",
    "**Actions Taken**:\n",
    "- Used `df.drop_duplicates()` to remove any duplicate rows.\n",
    "- Verified no missing values existed, so no imputation was needed.\n",
    "\n",
    "**Findings**:\n",
    "- The dataset had X duplicate rows (if any were found and removed).\n"
   ]
  },
  {
   "cell_type": "code",
   "execution_count": 5,
   "id": "febed324",
   "metadata": {},
   "outputs": [
    {
     "data": {
      "text/plain": [
       "school        0\n",
       "sex           0\n",
       "age           0\n",
       "address       0\n",
       "famsize       0\n",
       "Pstatus       0\n",
       "Medu          0\n",
       "Fedu          0\n",
       "Mjob          0\n",
       "Fjob          0\n",
       "reason        0\n",
       "guardian      0\n",
       "traveltime    0\n",
       "studytime     0\n",
       "failures      0\n",
       "schoolsup     0\n",
       "famsup        0\n",
       "paid          0\n",
       "activities    0\n",
       "nursery       0\n",
       "higher        0\n",
       "internet      0\n",
       "romantic      0\n",
       "famrel        0\n",
       "freetime      0\n",
       "goout         0\n",
       "Dalc          0\n",
       "Walc          0\n",
       "health        0\n",
       "absences      0\n",
       "G1            0\n",
       "G2            0\n",
       "G3            0\n",
       "dtype: int64"
      ]
     },
     "execution_count": 5,
     "metadata": {},
     "output_type": "execute_result"
    }
   ],
   "source": [
    "# Remove duplicates if any\n",
    "df = df.drop_duplicates()\n",
    "\n",
    "# Check again for nulls after dropping duplicates\n",
    "df.isnull().sum()"
   ]
  },
  {
   "cell_type": "markdown",
   "id": "b636848e",
   "metadata": {},
   "source": [
    "### Step 4: Data Analysis Questions"
   ]
  },
  {
   "cell_type": "markdown",
   "id": "a97076d6",
   "metadata": {},
   "source": [
    "#### Q1. What is the average final grade (G3)?"
   ]
  },
  {
   "cell_type": "code",
   "execution_count": 10,
   "id": "2532b0a1",
   "metadata": {},
   "outputs": [
    {
     "name": "stdout",
     "output_type": "stream",
     "text": [
      "Average Final Grade (G3): 10.42\n"
     ]
    }
   ],
   "source": [
    "average_g3 = df['G3'].mean()\n",
    "print(f\"Average Final Grade (G3): {average_g3:.2f}\")"
   ]
  },
  {
   "cell_type": "markdown",
   "id": "34b5e11c",
   "metadata": {},
   "source": [
    "#### Q2. How many students scored above 15 in G3?"
   ]
  },
  {
   "cell_type": "code",
   "execution_count": 12,
   "id": "b7ccb74a",
   "metadata": {},
   "outputs": [
    {
     "name": "stdout",
     "output_type": "stream",
     "text": [
      "Number of students who scored above 15: 40\n"
     ]
    }
   ],
   "source": [
    "high_scores = df[df['G3'] > 15].shape[0]\n",
    "print(f\"Number of students who scored above 15: {high_scores}\")"
   ]
  },
  {
   "cell_type": "markdown",
   "id": "a13a4d53",
   "metadata": {},
   "source": [
    "#### Q3. Correlation between study time and G3"
   ]
  },
  {
   "cell_type": "code",
   "execution_count": 9,
   "id": "eb56a6cc",
   "metadata": {},
   "outputs": [
    {
     "name": "stdout",
     "output_type": "stream",
     "text": [
      "Correlation between study time and final grade: 0.10\n"
     ]
    }
   ],
   "source": [
    "import numpy as np\n",
    "\n",
    "correlation = np.corrcoef(df['studytime'], df['G3'])[0, 1]\n",
    "print(f\"Correlation between study time and final grade: {correlation:.2f}\")"
   ]
  },
  {
   "cell_type": "markdown",
   "id": "f4040110",
   "metadata": {},
   "source": [
    "#### Q4. Which gender has a higher average G3?"
   ]
  },
  {
   "cell_type": "code",
   "execution_count": 8,
   "id": "cf3d2a8b",
   "metadata": {},
   "outputs": [
    {
     "name": "stdout",
     "output_type": "stream",
     "text": [
      "sex\n",
      "F     9.966346\n",
      "M    10.914439\n",
      "Name: G3, dtype: float64\n"
     ]
    }
   ],
   "source": [
    "gender_avg = df.groupby('sex')['G3'].mean()\n",
    "print(gender_avg)"
   ]
  },
  {
   "cell_type": "markdown",
   "id": "428b3dd6",
   "metadata": {},
   "source": [
    "### Step 5: Data Visualization\n",
    "**Purpose**:  \n",
    "To visually interpret the relationships and distributions in the dataset using `matplotlib` and `seaborn`.\n",
    "\n",
    "#### 1. Histogram of Final Grades (G3)\n",
    "- Shows the distribution of student final grades.\n",
    "- Most students scored between [X and Y].\n",
    "\n",
    "#### 2. Scatter Plot of Study Time vs Final Grade\n",
    "- Displays how study time relates to final performance.\n",
    "- [Interpret the trend: upward/downward/no pattern].\n",
    "\n",
    "#### 3. Bar Chart: Average G3 by Gender\n",
    "- Compares average G3 scores of male and female students.\n",
    "- [Insert interpretation].\n"
   ]
  },
  {
   "cell_type": "markdown",
   "id": "e9dce3ba",
   "metadata": {},
   "source": [
    "#### Histogram of Final Grades (G3)"
   ]
  },
  {
   "cell_type": "code",
   "execution_count": 7,
   "id": "b1a080d5",
   "metadata": {},
   "outputs": [
    {
     "data": {
      "image/png": "[encoded data removed]",
      "text/plain": [
       "<Figure size 800x500 with 1 Axes>"
      ]
     },
     "metadata": {},
     "output_type": "display_data"
    }
   ],
   "source": [
    "import matplotlib.pyplot as plt\n",
    "import seaborn as sns\n",
    "\n",
    "plt.figure(figsize=(8, 5))\n",
    "plt.hist(df['G3'], bins=10, color='skyblue', edgecolor='black')\n",
    "plt.title('Histogram of Final Grades (G3)')\n",
    "plt.xlabel('Final Grade (G3)')\n",
    "plt.ylabel('Number of Students')\n",
    "plt.grid(True)\n",
    "plt.show()"
   ]
  },
  {
   "cell_type": "markdown",
   "id": "3334720b",
   "metadata": {},
   "source": [
    "#### Scatter plot: Study Time vs Final Grade"
   ]
  },
  {
   "cell_type": "code",
   "execution_count": 13,
   "id": "c05bcd0b",
   "metadata": {},
   "outputs": [
    {
     "data": {
      "image/png": "[encoded data removed]",
      "text/plain": [
       "<Figure size 800x500 with 1 Axes>"
      ]
     },
     "metadata": {},
     "output_type": "display_data"
    }
   ],
   "source": [
    "plt.figure(figsize=(8, 5))\n",
    "sns.scatterplot(x='studytime', y='G3', data=df, color='purple')\n",
    "plt.title('Study Time vs Final Grade')\n",
    "plt.xlabel('Study Time (hours/week)')\n",
    "plt.ylabel('Final Grade (G3)')\n",
    "plt.grid(True)\n",
    "plt.show()"
   ]
  },
  {
   "cell_type": "markdown",
   "id": "30039685",
   "metadata": {},
   "source": [
    "#### Bar Chart: Average G3 by Gender"
   ]
  },
  {
   "cell_type": "code",
   "execution_count": 11,
   "id": "cb2b739d",
   "metadata": {},
   "outputs": [
    {
     "name": "stderr",
     "output_type": "stream",
     "text": [
      "C:\\Users\\Balu\\AppData\\Local\\Temp\\ipykernel_10920\\4108803671.py:2: FutureWarning: \n",
      "\n",
      "Passing `palette` without assigning `hue` is deprecated and will be removed in v0.14.0. Assign the `x` variable to `hue` and set `legend=False` for the same effect.\n",
      "\n",
      "  sns.barplot(x=gender_avg.index, y=gender_avg.values, palette='coolwarm')\n"
     ]
    },
    {
     "data": {
      "image/png": "[encoded data removed]",
      "text/plain": [
       "<Figure size 600x500 with 1 Axes>"
      ]
     },
     "metadata": {},
     "output_type": "display_data"
    }
   ],
   "source": [
    "plt.figure(figsize=(6, 5))\n",
    "sns.barplot(x=gender_avg.index, y=gender_avg.values, palette='coolwarm')\n",
    "plt.title('Average Final Grade (G3) by Gender')\n",
    "plt.xlabel('Gender')\n",
    "plt.ylabel('Average Final Grade')\n",
    "plt.show()"
   ]
  },
  {
   "cell_type": "markdown",
   "id": "c3051d5a-5732-449a-ad53-8bc651f1f3fe",
   "metadata": {},
   "source": [
    "###  Step 6: Summary and Insights\n",
    "\n",
    "- The average final grade (G3) is approximately **10.42**.\n",
    "- Number of students who scored above 15: **40** students.\n",
    "- There is a **[moderate/weak]** correlation (**0.10**) between study time and final grade.\n",
    "- **[Male/Female]** students have a higher average final grade.\n",
    "- Visualizations confirm that study time has an impact on performance.\n",
    "- Overall, the analysis demonstrates the ability to explore, clean, analyze, and visualize data using core Python libraries such as pandas, NumPy, matplotlib, and seaborn.\n"
   ]
  }
 ],
 "metadata": {
  "kernelspec": {
   "display_name": "Python 3 (ipykernel)",
   "language": "python",
   "name": "python3"
  },
  "language_info": {
   "codemirror_mode": {
    "name": "ipython",
    "version": 3
   },
   "file_extension": ".py",
   "mimetype": "text/x-python",
   "name": "python",
   "nbconvert_exporter": "python",
   "pygments_lexer": "ipython3",
   "version": "3.8.0"
  }
 },
 "nbformat": 4,
 "nbformat_minor": 5
}
